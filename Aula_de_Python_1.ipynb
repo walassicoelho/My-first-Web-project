{
  "nbformat": 4,
  "nbformat_minor": 0,
  "metadata": {
    "colab": {
      "name": "Aula de Python 1",
      "provenance": [],
      "authorship_tag": "ABX9TyN3BifmUXm5u3r3Dnha5Nqf",
      "include_colab_link": true
    },
    "kernelspec": {
      "name": "python3",
      "display_name": "Python 3"
    }
  },
  "cells": [
    {
      "cell_type": "markdown",
      "metadata": {
        "id": "view-in-github",
        "colab_type": "text"
      },
      "source": [
        "<a href=\"https://colab.research.google.com/github/walassicoelho/My-first-web-project/blob/master/Aula_de_Python_1.ipynb\" target=\"_parent\"><img src=\"https://colab.research.google.com/assets/colab-badge.svg\" alt=\"Open In Colab\"/></a>"
      ]
    },
    {
      "cell_type": "code",
      "metadata": {
        "colab": {
          "base_uri": "https://localhost:8080/"
        },
        "id": "UIk5ELIWG9lL",
        "outputId": "d188bfb9-e828-4dda-97da-f11f744c34c1"
      },
      "source": [
        "nome = \"Walassi\"\n",
        "print(nome)\n",
        "\n"
      ],
      "execution_count": 1,
      "outputs": [
        {
          "output_type": "stream",
          "text": [
            "Walassi\n"
          ],
          "name": "stdout"
        }
      ]
    },
    {
      "cell_type": "code",
      "metadata": {
        "colab": {
          "base_uri": "https://localhost:8080/",
          "height": 36
        },
        "id": "8IKyvgNuHoO6",
        "outputId": "0597e816-660e-4323-c3eb-9bbd6fcfe133"
      },
      "source": [
        "nome = \"Walassi\"\n",
        "nome"
      ],
      "execution_count": 2,
      "outputs": [
        {
          "output_type": "execute_result",
          "data": {
            "application/vnd.google.colaboratory.intrinsic+json": {
              "type": "string"
            },
            "text/plain": [
              "'Walassi'"
            ]
          },
          "metadata": {
            "tags": []
          },
          "execution_count": 2
        }
      ]
    },
    {
      "cell_type": "code",
      "metadata": {
        "colab": {
          "base_uri": "https://localhost:8080/"
        },
        "id": "5kV_OLAhIG-J",
        "outputId": "5e23ebdf-4efd-4ffc-cc74-47077fe1bd6e"
      },
      "source": [
        "idade = 22\n",
        "idade "
      ],
      "execution_count": 3,
      "outputs": [
        {
          "output_type": "execute_result",
          "data": {
            "text/plain": [
              "22"
            ]
          },
          "metadata": {
            "tags": []
          },
          "execution_count": 3
        }
      ]
    },
    {
      "cell_type": "code",
      "metadata": {
        "colab": {
          "base_uri": "https://localhost:8080/"
        },
        "id": "7T7Ku58AINBH",
        "outputId": "28d98e36-1b68-44ed-d41f-7d7d4e8743ba"
      },
      "source": [
        "idade + 3"
      ],
      "execution_count": 4,
      "outputs": [
        {
          "output_type": "execute_result",
          "data": {
            "text/plain": [
              "25"
            ]
          },
          "metadata": {
            "tags": []
          },
          "execution_count": 4
        }
      ]
    },
    {
      "cell_type": "code",
      "metadata": {
        "colab": {
          "base_uri": "https://localhost:8080/"
        },
        "id": "5Hr6vwIBIRJr",
        "outputId": "7c92e65a-f3e0-4a54-8bde-2f95ee95e28a"
      },
      "source": [
        "idade = idade + 3\n",
        "idade"
      ],
      "execution_count": 5,
      "outputs": [
        {
          "output_type": "execute_result",
          "data": {
            "text/plain": [
              "25"
            ]
          },
          "metadata": {
            "tags": []
          },
          "execution_count": 5
        }
      ]
    },
    {
      "cell_type": "code",
      "metadata": {
        "id": "hKrREzlqIb5s"
      },
      "source": [
        "def mais_um_ano(idade):\n",
        "\n",
        "  print(\"ta dentro dessa função\")\n",
        "  return idade + 1"
      ],
      "execution_count": 8,
      "outputs": []
    },
    {
      "cell_type": "code",
      "metadata": {
        "colab": {
          "base_uri": "https://localhost:8080/"
        },
        "id": "WwaNPxAbJUF7",
        "outputId": "6bf9d4e0-6d06-4748-a534-21db6c75f603"
      },
      "source": [
        "mais_um_ano(23)"
      ],
      "execution_count": 10,
      "outputs": [
        {
          "output_type": "stream",
          "text": [
            "ta dentro dessa função\n"
          ],
          "name": "stdout"
        },
        {
          "output_type": "execute_result",
          "data": {
            "text/plain": [
              "24"
            ]
          },
          "metadata": {
            "tags": []
          },
          "execution_count": 10
        }
      ]
    },
    {
      "cell_type": "code",
      "metadata": {
        "id": "AFeNoy6uJgBa"
      },
      "source": [
        "filme1 = \"Toy Story 1\"\n",
        "filme2 = \"A Múmia\"\n",
        "filme3 = \"Matrix 1\""
      ],
      "execution_count": 11,
      "outputs": []
    },
    {
      "cell_type": "code",
      "metadata": {
        "id": "m6RUEdvdJ3xM"
      },
      "source": [
        "filmes = [\"Toy Story 1\", \"A Múmia\", \"Matrix 1\"]"
      ],
      "execution_count": 12,
      "outputs": []
    },
    {
      "cell_type": "code",
      "metadata": {
        "colab": {
          "base_uri": "https://localhost:8080/"
        },
        "id": "sVihME70KF9e",
        "outputId": "448d8463-cb35-42e3-cd72-d2948d255623"
      },
      "source": [
        "filmes"
      ],
      "execution_count": 13,
      "outputs": [
        {
          "output_type": "execute_result",
          "data": {
            "text/plain": [
              "['Toy Story 1', 'A Múmia', 'Matrix 1']"
            ]
          },
          "metadata": {
            "tags": []
          },
          "execution_count": 13
        }
      ]
    },
    {
      "cell_type": "code",
      "metadata": {
        "colab": {
          "base_uri": "https://localhost:8080/"
        },
        "id": "rKt30xgZKHRE",
        "outputId": "2153d3c2-7dba-4af1-8f7e-09bbc66bdce3"
      },
      "source": [
        "filmes = [filme1, filme2, filme3]\n",
        "filmes"
      ],
      "execution_count": 14,
      "outputs": [
        {
          "output_type": "execute_result",
          "data": {
            "text/plain": [
              "['Toy Story 1', 'A Múmia', 'Matrix 1']"
            ]
          },
          "metadata": {
            "tags": []
          },
          "execution_count": 14
        }
      ]
    },
    {
      "cell_type": "code",
      "metadata": {
        "id": "Sur4ZKZXKRrD"
      },
      "source": [
        "def imprime_filmes(filmes):\n",
        "  print(\"A lista de filmes que eu tenho disponivel\")\n",
        "  print(filmes)"
      ],
      "execution_count": 15,
      "outputs": []
    },
    {
      "cell_type": "code",
      "metadata": {
        "colab": {
          "base_uri": "https://localhost:8080/"
        },
        "id": "TQHPNEL4Kp4Y",
        "outputId": "db704c84-8ecd-481b-e491-6a51edbc0fb9"
      },
      "source": [
        "imprime_filmes(filmes)"
      ],
      "execution_count": 16,
      "outputs": [
        {
          "output_type": "stream",
          "text": [
            "A lista de filmes que eu tenho disponivel\n",
            "['Toy Story 1', 'A Múmia', 'Matrix 1']\n"
          ],
          "name": "stdout"
        }
      ]
    },
    {
      "cell_type": "code",
      "metadata": {
        "colab": {
          "base_uri": "https://localhost:8080/",
          "height": 36
        },
        "id": "jagZ7-LqKsNN",
        "outputId": "cfda846c-c003-462e-d3e3-ff160ec0b467"
      },
      "source": [
        "filmes[1]"
      ],
      "execution_count": 17,
      "outputs": [
        {
          "output_type": "execute_result",
          "data": {
            "application/vnd.google.colaboratory.intrinsic+json": {
              "type": "string"
            },
            "text/plain": [
              "'A Múmia'"
            ]
          },
          "metadata": {
            "tags": []
          },
          "execution_count": 17
        }
      ]
    },
    {
      "cell_type": "code",
      "metadata": {
        "colab": {
          "base_uri": "https://localhost:8080/",
          "height": 36
        },
        "id": "0SdaOpriK7QC",
        "outputId": "bd4a182f-0ff6-485f-cd7f-0413c38d6a98"
      },
      "source": [
        "filmes[-2]"
      ],
      "execution_count": 18,
      "outputs": [
        {
          "output_type": "execute_result",
          "data": {
            "application/vnd.google.colaboratory.intrinsic+json": {
              "type": "string"
            },
            "text/plain": [
              "'A Múmia'"
            ]
          },
          "metadata": {
            "tags": []
          },
          "execution_count": 18
        }
      ]
    },
    {
      "cell_type": "code",
      "metadata": {
        "colab": {
          "base_uri": "https://localhost:8080/",
          "height": 36
        },
        "id": "3ROsqTE3LUtM",
        "outputId": "5c4e03bf-3568-4742-c996-48058315a525"
      },
      "source": [
        "filmes[-1]"
      ],
      "execution_count": 19,
      "outputs": [
        {
          "output_type": "execute_result",
          "data": {
            "application/vnd.google.colaboratory.intrinsic+json": {
              "type": "string"
            },
            "text/plain": [
              "'Matrix 1'"
            ]
          },
          "metadata": {
            "tags": []
          },
          "execution_count": 19
        }
      ]
    },
    {
      "cell_type": "code",
      "metadata": {
        "id": "MKtyuVKtLYBv"
      },
      "source": [
        ""
      ],
      "execution_count": null,
      "outputs": []
    }
  ]
}